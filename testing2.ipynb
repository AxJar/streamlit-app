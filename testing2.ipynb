{
 "cells": [
  {
   "cell_type": "code",
   "execution_count": 1,
   "metadata": {},
   "outputs": [
    {
     "name": "stdout",
     "output_type": "stream",
     "text": [
      "                                       Id  anio    mes  dia  dia_sem  \\\n",
      "0  2015-01-01-620850-SISCAV-08:00 A 09:59  2015  Enero    1   jueves   \n",
      "1  2015-01-01-620850-SISCAV-08:00 A 09:59  2015  Enero    1   jueves   \n",
      "2  2015-01-17-633262-SISCAV-06:00 A 07:59  2015  Enero   17   sábado   \n",
      "3  2015-01-17-633262-SISCAV-06:00 A 07:59  2015  Enero   17   sábado   \n",
      "4  2015-01-18-626486-SISCAV-16:00 A 17:59  2015  Enero   18  domingo   \n",
      "\n",
      "   clave_mun                    mun     herido   ibaen_atro  num_mes  \\\n",
      "0       98.0  San Pedro Tlaquepaque      Ileso    Automovil        1   \n",
      "1       98.0  San Pedro Tlaquepaque  Lesionado    Automovil        1   \n",
      "2       39.0            Guadalajara  Lesionado    Automovil        1   \n",
      "3       39.0            Guadalajara  Lesionado    Automovil        1   \n",
      "4       39.0            Guadalajara  Lesionado  Motocicleta        1   \n",
      "\n",
      "      rango_hora      tipo_accidente                     cruce_setrans  \\\n",
      "0    8:00 a 8:59  Contra Objeto Fijo   TLAQUEPAQUELAZARO CARDENAS CALZ   \n",
      "1    8:00 a 8:59  Contra Objeto Fijo   TLAQUEPAQUELAZARO CARDENAS CALZ   \n",
      "2    6:00 a 6:59     Atropellamiento           GARIBALDICOLONIA CENTRO   \n",
      "3    6:00 a 6:59     Atropellamiento           GARIBALDICOLONIA CENTRO   \n",
      "4  16:00 a 16:59  Contra Objeto Fijo  ESTEBAN ALATORREABRAHAM GONZALEZ   \n",
      "\n",
      "  cruce_osm     rango_edad           x          y tipo_usuario    sexo  dileso  \n",
      "0   Ninguno          18-27 -103.357144  20.667576    Conductor  Hombre       1  \n",
      "1   Ninguno  No disponible -103.357144  20.667576     Pasajero   Mujer       0  \n",
      "2   Ninguno          28-37 -103.357144  20.667576    Conductor  Hombre       0  \n",
      "3   Ninguno  No disponible -103.357144  20.667576       Peatón  Hombre       0  \n",
      "4   Ninguno          48-59 -103.357144  20.667576    Conductor  Hombre       0  \n"
     ]
    }
   ],
   "source": [
    "import pandas as pd\n",
    "\n",
    "# Cargar los datos\n",
    "def get_data():\n",
    "    # Carga los datos desde tu repositorio\n",
    "    data_url = \"base.csv\"\n",
    "    df = pd.read_csv(data_url)\n",
    "    \n",
    "    # FillNA\n",
    "    df[\"clave_mun\"] = df[\"clave_mun\"].fillna(97)\n",
    "    df[\"herido\"] = df[\"herido\"].fillna(\"Ileso\")\n",
    "    df[\"tipo_accidente\"] = df[\"tipo_accidente\"].fillna(df[\"tipo_accidente\"].mode()[0])\n",
    "    df[\"x\"] = df[\"x\"].fillna(df[\"x\"].mean())\n",
    "    df[\"y\"] = df[\"y\"].fillna(df[\"y\"].mean())\n",
    "    df[\"cruce_osm\"] = df[\"cruce_osm\"].fillna(\"Ninguno\")\n",
    "    \n",
    "    return df\n",
    "\n",
    "df = get_data()\n",
    "\n",
    "# Verificar las primeras filas del dataframe\n",
    "print(df.head())"
   ]
  },
  {
   "cell_type": "code",
   "execution_count": 2,
   "metadata": {},
   "outputs": [],
   "source": [
    "from sklearn.model_selection import train_test_split\n",
    "from sklearn.preprocessing import LabelEncoder\n",
    "\n",
    "# Convertir las variables categóricas en variables numéricas\n",
    "le = LabelEncoder()\n",
    "df['tipo_usuario'] = le.fit_transform(df['tipo_usuario'])\n",
    "df['dia_sem'] = le.fit_transform(df['dia_sem'])\n",
    "df['rango_hora'] = le.fit_transform(df['rango_hora'])\n",
    "df['sexo'] = le.fit_transform(df['sexo'])\n",
    "df['rango_edad'] = le.fit_transform(df['rango_edad'])\n",
    "df['ibaen_atro'] = le.fit_transform(df['ibaen_atro'])\n",
    "df['tipo_accidente'] = le.fit_transform(df['tipo_accidente'])\n",
    "df['herido'] = le.fit_transform(df['herido'])\n",
    "\n",
    "# Dividir los datos en conjuntos de entrenamiento y prueba\n",
    "X = df[['tipo_usuario', 'dia_sem', 'rango_hora', 'sexo', 'rango_edad', 'ibaen_atro', 'tipo_accidente']]\n",
    "y = df['herido']\n",
    "X_train, X_test, y_train, y_test = train_test_split(X, y, test_size=0.2, random_state=42)"
   ]
  },
  {
   "cell_type": "code",
   "execution_count": 4,
   "metadata": {},
   "outputs": [
    {
     "name": "stdout",
     "output_type": "stream",
     "text": [
      "Score del modelo de regresión logística:  0.7223788772109715\n"
     ]
    }
   ],
   "source": [
    "from sklearn.linear_model import LogisticRegression\n",
    "\n",
    "# Entrenar el modelo de regresión logística\n",
    "lr = LogisticRegression(max_iter=1000)\n",
    "lr.fit(X_train, y_train)\n",
    "\n",
    "# Evaluar el modelo\n",
    "print('Score del modelo de regresión logística: ', lr.score(X_test, y_test))"
   ]
  },
  {
   "cell_type": "code",
   "execution_count": 5,
   "metadata": {},
   "outputs": [
    {
     "name": "stdout",
     "output_type": "stream",
     "text": [
      "Score del modelo de árbol de clasificación:  0.8029992309664189\n"
     ]
    }
   ],
   "source": [
    "from sklearn.tree import DecisionTreeClassifier\n",
    "\n",
    "# Entrenar el modelo de árbol de clasificación\n",
    "dt = DecisionTreeClassifier()\n",
    "dt.fit(X_train, y_train)\n",
    "\n",
    "# Evaluar el modelo\n",
    "print('Score del modelo de árbol de clasificación: ', dt.score(X_test, y_test))"
   ]
  },
  {
   "cell_type": "code",
   "execution_count": 6,
   "metadata": {},
   "outputs": [],
   "source": [
    "import pickle\n",
    "\n",
    "# Guardar los modelos en el disco\n",
    "pickle.dump(lr, open('logistic_regression_model2.pkl', 'wb'))\n",
    "pickle.dump(dt, open('decision_tree_model2.pkl', 'wb'))"
   ]
  }
 ],
 "metadata": {
  "kernelspec": {
   "display_name": "Analytics",
   "language": "python",
   "name": "python3"
  },
  "language_info": {
   "codemirror_mode": {
    "name": "ipython",
    "version": 3
   },
   "file_extension": ".py",
   "mimetype": "text/x-python",
   "name": "python",
   "nbconvert_exporter": "python",
   "pygments_lexer": "ipython3",
   "version": "3.8.16"
  },
  "orig_nbformat": 4
 },
 "nbformat": 4,
 "nbformat_minor": 2
}
